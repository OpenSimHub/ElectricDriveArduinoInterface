{
 "cells": [
  {
   "cell_type": "markdown",
   "id": "9ed8b84c-0109-4268-9f2b-65803cbf45a4",
   "metadata": {},
   "source": [
    "# Python Code for IO controller\n",
    "\n",
    "Author: Anniken Semb Kvalsund\n",
    "\n",
    "This file contains the python code used for communication with an Arduino microcontroller configured as an IO-module. The python program communicates with the Arduino through serial bus."
   ]
  },
  {
   "cell_type": "markdown",
   "id": "7eb54180-d585-4aea-8c3c-2cdd5fb8e8d7",
   "metadata": {},
   "source": [
    "**NOTE:**\n",
    "Information sent to the Arduino must be bytewise, not as strings, as the Arduino controller reads strings too slow.\n",
    "Capital letters, special symbols and lower case a,b,c and d are reserved for ASCII byte representation of integer values between 0-100. \n",
    "\n",
    "If access to port denied, close Arduino IDE and try again."
   ]
  },
  {
   "cell_type": "markdown",
   "id": "2621aa18-568e-4c56-88cf-52a1eaaf018b",
   "metadata": {},
   "source": [
    "## Main Code"
   ]
  },
  {
   "cell_type": "markdown",
   "id": "cc2afd9e-09e3-43a6-a159-1d96f316c8fb",
   "metadata": {},
   "source": [
    "Importing libraries etc:"
   ]
  },
  {
   "cell_type": "code",
   "execution_count": 1,
   "id": "4363b941-5f7c-43c0-bdfd-1e0ba15d5d8d",
   "metadata": {},
   "outputs": [],
   "source": [
    "#%pylab notebook\n",
    "import serial\n",
    "import time\n",
    "import numpy as np"
   ]
  },
  {
   "cell_type": "markdown",
   "id": "09daa3df-96f1-4578-a006-6c59fa86270e",
   "metadata": {},
   "source": [
    "Establishing communication with the serial port. Remember to change the 'COM3' to whichever port is in use. The time.sleep(2) allows for some startup time for the Arduino."
   ]
  },
  {
   "cell_type": "code",
   "execution_count": 2,
   "id": "248373aa-4455-4dab-aaf0-098367b68e06",
   "metadata": {},
   "outputs": [],
   "source": [
    "ser = serial.Serial('COM3', baudrate = 9600, timeout = 1)   # Timeout unit = seconds\n",
    "time.sleep(2)"
   ]
  },
  {
   "cell_type": "markdown",
   "id": "b58db61e",
   "metadata": {},
   "source": [
    "**Scaling function**\n",
    "<br> \n",
    "An allround useful function for scaling variables\n"
   ]
  },
  {
   "cell_type": "code",
   "execution_count": 3,
   "id": "01776e6f",
   "metadata": {},
   "outputs": [],
   "source": [
    "# Function to convert value to different scales\n",
    "def scaleVal(invalue, in_min, in_max, out_min, out_max):                            \n",
    "    out = ((invalue - in_min)/(in_max-in_min))*(out_max-out_min)+out_min       \n",
    "    return out\n",
    "\n",
    "#print(ScaleVal(0,-10,10,-1000,1000))"
   ]
  },
  {
   "cell_type": "markdown",
   "id": "0625baf8-0963-4d41-9806-67c50778b66a",
   "metadata": {},
   "source": [
    "\n",
    "**Defining variables** etc.\n",
    "numPoints defines how many data point one wants to collect in one round (based on a for-loop). This will eventually be removed in a final stage of the program. The dataList creates a list for said collected datapoints."
   ]
  },
  {
   "cell_type": "code",
   "execution_count": 4,
   "id": "1ca1c33c-df92-447d-bcdd-42e92a7eba82",
   "metadata": {},
   "outputs": [],
   "source": [
    "numPoints = 20                       # Number of data rows to be collected. Remove when program is continuously reading.\n",
    "dataList = np.array([0]*numPoints)   # Create list for data points.           \n",
    "#AIs = [None]*numPoints]       # Analogue input matrix\n",
    "whileLoop = True\n",
    "Ch = ['0','1','2','3']\n",
    "\n",
    "rounds = 0 # For counting round of AI read\n",
    "\n",
    "AI_1_temp = [None]*numPoints\n",
    "AI_2_temp = [None]*numPoints\n",
    "AI_3_temp = [None]*numPoints\n"
   ]
  },
  {
   "cell_type": "markdown",
   "id": "56d8b1ba",
   "metadata": {},
   "source": [
    "**Sanitising input function**\n",
    "<br>\n",
    "Makes the user type in answers until they type in a valid one. <br>\n",
    "Found at: https://stackoverflow.com/questions/23294658/asking-the-user-for-input-until-they-give-a-valid-response"
   ]
  },
  {
   "cell_type": "code",
   "execution_count": 5,
   "id": "c1a6d1f2",
   "metadata": {},
   "outputs": [],
   "source": [
    "def clean_input(prompt, type_=None, min_=None, max_=None, range_=None):\n",
    "    if min_ is not None and max_ is not None and max_ < min_:\n",
    "        raise ValueError(\"min_ must be less than or equal to max_.\")\n",
    "    while True:\n",
    "        ui = input(prompt)\n",
    "        if type_ is not None:\n",
    "            try:\n",
    "                ui = type_(ui)\n",
    "            except ValueError:\n",
    "                print(\"Input type must be {0}.\".format(type_.__name__))\n",
    "                continue\n",
    "        if max_ is not None and ui > max_:\n",
    "            print(\"Input must be less than or equal to {0}.\".format(max_))\n",
    "        elif min_ is not None and ui < min_:\n",
    "            print(\"Input must be greater than or equal to {0}.\".format(min_))\n",
    "        elif range_ is not None and ui not in range_:\n",
    "            if isinstance(range_, range):\n",
    "                template = \"Input must be between {0.start} and {0.stop}.\"\n",
    "                print(template.format(range_))\n",
    "            else:\n",
    "                template = \"Input must be {0}.\"\n",
    "                if len(range_) == 1:\n",
    "                    print(template.format(*range_))\n",
    "                else:\n",
    "                    expected = \" or \".join((\n",
    "                        \", \".join(str(x) for x in range_[:-1]),\n",
    "                        str(range_[-1])\n",
    "                    ))\n",
    "                    print(template.format(expected))\n",
    "        else:\n",
    "            return ui"
   ]
  },
  {
   "cell_type": "markdown",
   "id": "7a603741-5f61-4657-88b3-7d2d4d93e982",
   "metadata": {},
   "source": [
    "### Functions"
   ]
  },
  {
   "cell_type": "markdown",
   "id": "11964738-67f5-4910-8101-85e4fec25b68",
   "metadata": {},
   "source": [
    "**Read analogue inputs** \n",
    "<br>\n",
    "The 'AI_read' function reads values from the analogue inputs (A0-A3). The data is transmitted with 10bit resolution."
   ]
  },
  {
   "cell_type": "code",
   "execution_count": 6,
   "id": "3f93c0a7-3fcf-4158-ad63-77e263b5335c",
   "metadata": {},
   "outputs": [],
   "source": [
    "# Function for reading analogue values\n",
    "def AI_read():    \n",
    "    #ser.write(b'e')                                     # b signifies that we're writing a byte to the serial bus\n",
    "    arduinoData = ser.readline().decode().rstrip()      # Reads the arduino point from the ser port specified above. Readline reads until the end of line character. ascii decode removes the information around data read (byte rn)   \n",
    "    list_values = arduinoData.split('x')                # Splits the multiple elements by x\n",
    "#    list_values_int = list(map(int, list_values))      # Converts lists of strings to list of integers\n",
    "    return list_values"
   ]
  },
  {
   "cell_type": "markdown",
   "id": "ea22aff0-62b2-442e-9da4-5b92217bb3a7",
   "metadata": {},
   "source": [
    "**Sort Collected Data in Matrix**\n",
    "<br>\n",
    "The function 'sortData' calls the 'AI_read' function, as described above and sorts the arrays into a matrix-form.. Each column in the matrix represents the values collected from one input."
   ]
  },
  {
   "cell_type": "code",
   "execution_count": 7,
   "id": "4295f632-90a0-44b8-a035-b696990fd30d",
   "metadata": {},
   "outputs": [],
   "source": [
    "#Function to sort data in Matrix\n",
    "def sortData(AI1, AI2, AI3):\n",
    "    for i in range(0,numPoints):               # Limits number of data transferred. Can be removed later\n",
    "        ser.write(bytes('e', 'utf-8'))         # calls for an analogue input reading\n",
    "        ser.write(bytes('\\n', 'utf-8'))\n",
    "        data = AI_read()                       # Call the Function that reads the Analogue values\n",
    "        #print(data)                            # Prints the recieved data\n",
    "\n",
    "        # Sorting data from the three different channels to their own array     \n",
    "        AI_1_temp[i] = round(scaleVal(int(data[0]),0,1023,-10,10),3)\n",
    "        AI_2_temp[i] = round(scaleVal(int(data[1]),0,1023,-10,10),3)\n",
    "        AI_3_temp[i] = round(scaleVal(int(data[2]),205,1023,4,20),3)\n",
    "\n",
    "    AI1_return = AI1 + AI_1_temp\n",
    "    AI2_return = AI2 + AI_2_temp\n",
    "    AI3_return = AI3 + AI_3_temp\n",
    "    \n",
    "    #print('\\nAI 1 = ', AI1_return,'\\nAI 2 = ', AI2_return,'\\nAI 3 = ', AI3_return,)\n",
    "    #print('\\nAI 1 = ', AI_1, '\\nAI 2 = ', AI_2, '\\nAI 3 = ', AI_3)\n",
    "    \n",
    "    return AI1_return,AI2_return,AI3_return"
   ]
  },
  {
   "cell_type": "markdown",
   "id": "0df1c59d-86d9-4472-a7a7-f121af402a20",
   "metadata": {},
   "source": [
    "**Controlling built in Arduino LED**\n",
    "<br>\n",
    "The function can switch on and off the built in Arduino LED. It is not a vital function, but comes in handy during troubleshooting plausible connectin issues."
   ]
  },
  {
   "cell_type": "code",
   "execution_count": 8,
   "id": "1ef7142f-b7aa-4d2b-91ef-bfe212a53f4e",
   "metadata": {},
   "outputs": [],
   "source": [
    "# Function for controlling built in Arduino LED\n",
    "def LEDonoff(LEDcontr):\n",
    "    if LEDcontr == 'on':\n",
    "        ser.write(bytes('h', 'utf-8'))\n",
    "        ser.write(bytes('\\n', 'utf-8'))\n",
    "    elif LEDcontr == 'off':\n",
    "        ser.write(bytes('i', 'utf-8'))\n",
    "        ser.write(bytes('\\n', 'utf-8'))\n",
    "    arduinoData = ser.readline().decode()\n",
    "    return arduinoData"
   ]
  },
  {
   "cell_type": "markdown",
   "id": "d20878c6",
   "metadata": {},
   "source": [
    "**Limit Function (utils)**\n",
    "<br>\n",
    "This function makes sure the number is within a specified range. Default is 0-100"
   ]
  },
  {
   "cell_type": "code",
   "execution_count": 9,
   "id": "8c50b037",
   "metadata": {},
   "outputs": [],
   "source": [
    "#Limits input 'num' between minimum and maximum values\n",
    "def limit(num, minimum=0, maximum=100):\n",
    "    limited = max(min(num, maximum), minimum)\n",
    "    return limited"
   ]
  },
  {
   "cell_type": "markdown",
   "id": "5fa1fded",
   "metadata": {},
   "source": [
    "**Analog / Digital Out write**\n",
    "<br>\n",
    "This function formats the neccessary info and sends it bytewise to the bus. The values are collected form an array separated by x'es and ended by a '~' <br> \n",
    "- The first value in array chooses between digital or analogue channels. 'o' for analogue and 'p' for digital.\n",
    "- The second value specifies the channel number\n",
    "- The third value specifies the value to be sent on said channel. For analogue 0-100, for digital 0 or 1."
   ]
  },
  {
   "cell_type": "code",
   "execution_count": 10,
   "id": "bedf1d6f",
   "metadata": {},
   "outputs": [],
   "source": [
    "# Function for sending an array of information to serial bus, separated by x'es and endedn with \\n. UTILS\n",
    "def byteWriteArray(AD,chNo,chVal):              # Inputs must be characters\n",
    "    \n",
    "    channelAD = bytes(AD, 'utf-8')              # Convert AD (o/p) to byte\n",
    "    channelNo = bytes(chNo, 'utf-8')            # Convert chNumber to byte\n",
    "    channelVal = bytes(chVal, 'utf-8')     # Converts ch value to ASCII character to byte\n",
    "                \n",
    "    fullArray = [channelAD, channelNo, channelVal] # Creates array of analog,chNumber and value\n",
    "        \n",
    "    for i in range(0, (len(fullArray))):        # Send values for the length og the array\n",
    "        ser.write(fullArray[i])                 # Send value in array\n",
    "        #print(fullArray[i])\n",
    "        if i <= (len(fullArray)-2):             # Goes to else at second last element\n",
    "            ser.write(bytes('x', 'utf-8'))      # Separate by x between each element, exept for after the last\n",
    "        else:\n",
    "            ser.write(bytes('\\n', 'utf-8'))           # End with new line char  \n",
    "    \n",
    "    print(channelAD,channelNo,channelVal)"
   ]
  },
  {
   "cell_type": "markdown",
   "id": "fa47cad2",
   "metadata": {},
   "source": [
    "**Print Results**\n",
    "<br>\n",
    "-- NOT needed, useful when troubleshooting. --\n",
    "<br>\n",
    "This function simply prints the feedback and its type sent from the arduino."
   ]
  },
  {
   "cell_type": "code",
   "execution_count": 11,
   "id": "8bad22cc",
   "metadata": {},
   "outputs": [],
   "source": [
    "# This function is for testing purposes only\n",
    "def printResults():\n",
    "    feedback = ser.readline().decode().rstrip()  # Reads the arduino point from the ser port specified above. Readline reads until the end of line character. ascii decode removes the information around data read (byte rn)   \n",
    "    print('Recieved arduino Data: ',feedback)\n",
    "    print('Recieved data type: ',type(feedback),'\\n\\n')"
   ]
  },
  {
   "cell_type": "markdown",
   "id": "56187878",
   "metadata": {},
   "source": [
    "**Arduino max AO cal**\n",
    "<br>\n",
    "This functio is made for ard. AO calibration. The PWM AO should ideally put out about 5V, but the real voltage is usually a bit higher. The function is based on arduinos maximum out value being 255, and adjusts this down accordingly to create exactly 5V out. To avoid too large numbers on the serial bus (should ideally be between 0 and 100, sent as byte) the function finds the difference between the desired output(10V) and real output, multiplies it by 100 to avoid decimals and sends this value to the arduino. The measured voltage should be between 10 and 11. If outside this range, other measures must be take to correct it anyways. The function is based on:\n",
    "\n",
    "$$ArduinoAO_{max,new}=\\frac{V_{max,desired}}{\\frac{V_{max,real}}{Arduino_{max}}} = \\frac{10V}{\\frac{10.xV}{255}}$$\n",
    "\n"
   ]
  },
  {
   "cell_type": "code",
   "execution_count": 12,
   "id": "3b06f30f",
   "metadata": {},
   "outputs": [],
   "source": [
    "# This funtion is used to adjust the maximum output value for arduino PWM outputs\n",
    "\n",
    "def arduinocal(Vmeas_max,Vmeas_min,Vdesired):\n",
    "    i = 0\n",
    "    Vclosetomin = False   # Used to reset and try again is voltage is too low\n",
    "    Vreset = False # Used to reset max value\n",
    "    sendValue = 0  # Difference value to be sent to Arduino\n",
    "\n",
    "    AOchannels = ['AO_0','AO_1','AO_2','AO_3']   # Array of analogue output channels\n",
    "    print(' - Press enter to go to next channel. \\n - Type reset to reset channel value.\\n')\n",
    "    \n",
    "    for i in range(0, (len(AOchannels))):\n",
    "        Vreset = False # Resets the Vreset variable for every channel.\n",
    "        \n",
    "        while True: # Only accepts numbers as input, loops to avoid errors.\n",
    "            Vmeas_str = input('Measured output voltage channel {}: '.format(AOchannels[i]))\n",
    "            \n",
    "            if not Vmeas_str:   # If user presses \"enter\", then break loop and go to next channel\n",
    "                break\n",
    "            else:\n",
    "                if Vmeas_str == 'reset' or Vmeas_str == 'Reset':  # Reset maximum value\n",
    "                    Vreset = True\n",
    "                else:\n",
    "                    try:\n",
    "                        Vmeas_float = float(Vmeas_str)    # Ensures the input is a number\n",
    "                    except ValueError:\n",
    "                        print('Not a valid number. Use . as decimal symbol.')\n",
    "                        continue\n",
    "                        \n",
    "            if (not Vreset) and (Vmeas_float > Vmeas_max or Vmeas_float < (Vmeas_min-1)):   # Checks if the number is (not) within the right range\n",
    "                print('Find other source of adjustment. Voltage deviance too high.')\n",
    "                break\n",
    "\n",
    "            else:\n",
    "                if (not Vreset) and (Vmeas_float > (Vmeas_min-1) and Vmeas_float < Vmeas_min): # If measured value is between 9-10, reset\n",
    "                    Vreset = True\n",
    "                    Vclosetomin = True\n",
    "                    print('Channel ', AOchannels[i],' is too low. Max value reset to default.\\nPlease try again.')\n",
    "                \n",
    "                if Vreset == True:\n",
    "                    sendValue = 'r'\n",
    "                else:\n",
    "                    dev_val = int(round((Vmeas_float - Vdesired)*100))  # Calculates deviation between desired and actual value\n",
    "                    #print(\"Deviation 0-100 = \",dev_val)\n",
    "                    sendValue = str(chr(dev_val))\n",
    "                \n",
    "                byteWriteArray('q', str(i), sendValue) # Change the max value\n",
    "                byteWriteArray('o', str(i), 'd') # Set said channel to max\n",
    "                \n",
    "                if Vclosetomin == True:  # Resets Vclosetomin variable and runs the loop once more if value between 9 and 10.\n",
    "                    Vclosetomin = False\n",
    "                    continue\n",
    "                else:\n",
    "                    break"
   ]
  },
  {
   "cell_type": "markdown",
   "id": "7b68d589-24b3-4c12-89d2-ae27ad65ca76",
   "metadata": {},
   "source": [
    "**Main**\n",
    "<br>\n",
    "This is the main function of the program. The user is asked which function they would like to run, and the if-statements calls the respective function. In a final version, the read functions will run continuously, and the write will run when changed."
   ]
  },
  {
   "cell_type": "code",
   "execution_count": 13,
   "id": "a739d5d5-1839-4898-990a-e6ff19e676fc",
   "metadata": {},
   "outputs": [],
   "source": [
    "#%% Main program\n",
    "\n",
    "def application():\n",
    "\n",
    "    whileLoop = True\n",
    "     \n",
    "    AI_0 = []\n",
    "    AI_1 = []\n",
    "    AI_2 = []\n",
    "    \n",
    "    AI0tmp = []  # Placeholders for AI lists\n",
    "    AI1tmp = []\n",
    "    AI2tmp = []\n",
    "    \n",
    "    modes = ['read','write','cal','on','off','q','Q'] # Modes/programs\n",
    "    \n",
    "    \n",
    "    #Whileloop:\n",
    "    while whileLoop == True:\n",
    "    \n",
    "        print('\\nGet Data? \\n - ',modes[0],' = analogue input values \\n - ',modes[1],' = Write to analogue or digital out \\n - ',modes[2],' = Calibrate arduino analogue outputs. \\n - ',modes[3],' = LED on \\n - ',modes[4],' = LED off \\n - ',modes[5],' = Close Port \\n')\n",
    "        \n",
    "        # Asking which function should be rund\n",
    "        chooseMode = clean_input('Please choose mode: ', range_=modes)\n",
    "            \n",
    "            \n",
    "        # Get datapoints from analogue inputs A0, A1, A2 and A3    \n",
    "        if chooseMode == modes[0]:   # If user press AI, get datapoints \n",
    "            AI0tmp = AI_0\n",
    "            AI1tmp = AI_1\n",
    "            AI2tmp = AI_2\n",
    "            AI_0, AI_1, AI_2 = sortData(AI0tmp, AI1tmp, AI2tmp)\n",
    "            \n",
    "            print('\\nAI 0: ',AI_0,'\\nAI 1: ',AI_1,'\\nAI 2: ',AI_2,'\\n')\n",
    "    \n",
    "        # Analogue/digital write\n",
    "        if chooseMode == modes[1]: \n",
    "        \n",
    "            # Ask if write to analogue or digital out\n",
    "            ADInput = clean_input('Select A for analogue, or D for digital: ',range_=('A','a','D','d')) # Choose between analogue and digital channels\n",
    "            chNumberInput = clean_input('Select channel number: ',range_=Ch) # Write desired channel number.  \n",
    "        \n",
    "            # Analogue write out\n",
    "            if (ADInput == 'A' or ADInput == 'a') and chNumberInput in Ch: \n",
    "            \n",
    "                numberinput = clean_input('Insert value 0-100: ', type_=int, min_=0, max_=100) # Ask for value between 0-100 to send to ard\n",
    "                \n",
    "                byteWriteArray('o', chNumberInput, str(chr(numberinput))) # chr=int to ASCII, then converted to string\n",
    "\n",
    "\n",
    "            # Digital write out            \n",
    "            elif (ADInput == 'D' or ADInput == 'd') and chNumberInput in Ch:\n",
    "            \n",
    "                onoffin = clean_input('True or False?', range_=('True','true','on','1','False','false','off','0')) # Ask if DO  should be high or low\n",
    "            \n",
    "                if onoffin == 'True' or onoffin == 'true'  or onoffin =='on' or onoffin == '1':# Checks if true\n",
    "                    onoff = 100\n",
    "            \n",
    "                elif onoffin == 'False' or onoffin == 'false'  or onoffin =='off' or onoffin == '0':# Checks if false\n",
    "                    onoff = 0        \n",
    "                    \n",
    "                else:\n",
    "                    print('Something is wrong\\n')\n",
    "                \n",
    "                byteWriteArray('p', chNumberInput, str(chr(onoff)))\n",
    "                \n",
    "            else:\n",
    "                print('Invalid input. Channel must be A or D, and number between 0-3\\n\\n')\n",
    "                \n",
    "\n",
    "                \n",
    "        if chooseMode == modes[2]:    # Calibration:\n",
    "            \n",
    "            enterCalMode = clean_input('Entering calibration mode. Please make sure equipment is disconnected before continuing.\\nDo you want to proceed? Y/N: ',range_=('Y','y','N','n'))\n",
    "\n",
    "            \n",
    "            if enterCalMode == 'Y' or enterCalMode == 'y':\n",
    "                for k in range(0, 4):\n",
    "                    byteWriteArray('o', str(k), 'd') # Setting all the AO to max\n",
    "            \n",
    "                print('\\nCalibration mode. Please measure the output analogue output one by one.')\n",
    "                arduinocal(11,10,10)\n",
    "                \n",
    "        # Switch builtin LED on/off\n",
    "        if chooseMode == modes[3] or [4]:\n",
    "            LEDonoff(chooseMode)\n",
    "                \n",
    "        if chooseMode == modes[5] or chooseMode == modes[6]:\n",
    "            print('Serial port closed.')\n",
    "            ser.close()\n",
    "            whileLoop = False"
   ]
  },
  {
   "cell_type": "markdown",
   "id": "23fb957c-45a4-48a0-aa65-4e36c3e59783",
   "metadata": {},
   "source": [
    "**If name is main**\n",
    "<br>\n",
    "This runs the main function"
   ]
  },
  {
   "cell_type": "code",
   "execution_count": 14,
   "id": "5b15887f",
   "metadata": {},
   "outputs": [
    {
     "name": "stdout",
     "output_type": "stream",
     "text": [
      "\n",
      "Get Data? \n",
      " -  read  = analogue input values \n",
      " -  write  = Write to analogue or digital out \n",
      " -  cal  = Calibrate arduino analogue outputs. \n",
      " -  on  = LED on \n",
      " -  off  = LED off \n",
      " -  q  = Close Port \n",
      "\n",
      "Please choose mode: write\n",
      "Select A for analogue, or D for digital: D\n",
      "Select channel number: 2\n",
      "True or False?true\n",
      "b'p' b'2' b'd'\n",
      "\n",
      "Get Data? \n",
      " -  read  = analogue input values \n",
      " -  write  = Write to analogue or digital out \n",
      " -  cal  = Calibrate arduino analogue outputs. \n",
      " -  on  = LED on \n",
      " -  off  = LED off \n",
      " -  q  = Close Port \n",
      "\n",
      "Please choose mode: write\n",
      "Select A for analogue, or D for digital: D\n",
      "Select channel number: 3\n",
      "True or False?true\n",
      "b'p' b'3' b'd'\n",
      "\n",
      "Get Data? \n",
      " -  read  = analogue input values \n",
      " -  write  = Write to analogue or digital out \n",
      " -  cal  = Calibrate arduino analogue outputs. \n",
      " -  on  = LED on \n",
      " -  off  = LED off \n",
      " -  q  = Close Port \n",
      "\n",
      "Please choose mode: write\n",
      "Select A for analogue, or D for digital: D\n",
      "Select channel number: 3\n",
      "True or False?false\n",
      "b'p' b'3' b'\\x00'\n",
      "\n",
      "Get Data? \n",
      " -  read  = analogue input values \n",
      " -  write  = Write to analogue or digital out \n",
      " -  cal  = Calibrate arduino analogue outputs. \n",
      " -  on  = LED on \n",
      " -  off  = LED off \n",
      " -  q  = Close Port \n",
      "\n",
      "Please choose mode: write\n",
      "Select A for analogue, or D for digital: A\n",
      "Select channel number: 2\n",
      "Insert value 0-100: 100\n",
      "b'o' b'2' b'd'\n",
      "\n",
      "Get Data? \n",
      " -  read  = analogue input values \n",
      " -  write  = Write to analogue or digital out \n",
      " -  cal  = Calibrate arduino analogue outputs. \n",
      " -  on  = LED on \n",
      " -  off  = LED off \n",
      " -  q  = Close Port \n",
      "\n",
      "Please choose mode: write\n",
      "Select A for analogue, or D for digital: D\n",
      "Select channel number: 2\n",
      "True or False?true\n",
      "b'p' b'2' b'd'\n",
      "\n",
      "Get Data? \n",
      " -  read  = analogue input values \n",
      " -  write  = Write to analogue or digital out \n",
      " -  cal  = Calibrate arduino analogue outputs. \n",
      " -  on  = LED on \n",
      " -  off  = LED off \n",
      " -  q  = Close Port \n",
      "\n",
      "Please choose mode: write\n",
      "Select A for analogue, or D for digital: D\n",
      "Select channel number: 2\n",
      "True or False?false\n",
      "b'p' b'2' b'\\x00'\n",
      "\n",
      "Get Data? \n",
      " -  read  = analogue input values \n",
      " -  write  = Write to analogue or digital out \n",
      " -  cal  = Calibrate arduino analogue outputs. \n",
      " -  on  = LED on \n",
      " -  off  = LED off \n",
      " -  q  = Close Port \n",
      "\n",
      "Please choose mode: write\n",
      "Select A for analogue, or D for digital: D\n",
      "Select channel number: 2\n",
      "True or False?true\n",
      "b'p' b'2' b'd'\n",
      "\n",
      "Get Data? \n",
      " -  read  = analogue input values \n",
      " -  write  = Write to analogue or digital out \n",
      " -  cal  = Calibrate arduino analogue outputs. \n",
      " -  on  = LED on \n",
      " -  off  = LED off \n",
      " -  q  = Close Port \n",
      "\n",
      "Please choose mode: q\n",
      "Serial port closed.\n"
     ]
    }
   ],
   "source": [
    "# %% Running\n",
    "if __name__ == '__main__':\n",
    "    application()\n",
    "    "
   ]
  }
 ],
 "metadata": {
  "kernelspec": {
   "display_name": "Python 3 (ipykernel)",
   "language": "python",
   "name": "python3"
  },
  "language_info": {
   "codemirror_mode": {
    "name": "ipython",
    "version": 3
   },
   "file_extension": ".py",
   "mimetype": "text/x-python",
   "name": "python",
   "nbconvert_exporter": "python",
   "pygments_lexer": "ipython3",
   "version": "3.9.7"
  }
 },
 "nbformat": 4,
 "nbformat_minor": 5
}
